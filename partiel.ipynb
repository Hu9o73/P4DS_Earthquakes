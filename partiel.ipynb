{
 "cells": [
  {
   "cell_type": "code",
   "execution_count": 11,
   "metadata": {},
   "outputs": [],
   "source": [
    "import pandas as pd\n",
    "import matplotlib.pyplot as plt\n",
    "import seaborn as sns\n",
    "from sklearn.preprocessing import LabelEncoder\n",
    "\n",
    "import warnings\n",
    "warnings.filterwarnings('ignore')"
   ]
  },
  {
   "cell_type": "code",
   "execution_count": 2,
   "metadata": {},
   "outputs": [],
   "source": [
    "def import_csv(filePath):\n",
    "    \"\"\"\n",
    "    Function for reading a CSV file\n",
    "\n",
    "    Input: filePath <string> : The path to the CSV file.\n",
    "\n",
    "    Returns : data <pd.DataFrame> : The data as a pandas' dataframe.\n",
    "\n",
    "    \"\"\"\n",
    "    return pd.read_csv(filePath)"
   ]
  },
  {
   "cell_type": "code",
   "execution_count": 3,
   "metadata": {},
   "outputs": [],
   "source": [
    "data = import_csv('earthquakes.csv')"
   ]
  },
  {
   "cell_type": "markdown",
   "metadata": {},
   "source": [
    "## Exploratory Data Analysis "
   ]
  },
  {
   "cell_type": "code",
   "execution_count": 15,
   "metadata": {},
   "outputs": [],
   "source": [
    "# Number of rows and columns\n",
    "\n",
    "def EDA(data):\n",
    "    \"\"\"\n",
    "    This function aims to help explore the dataset\n",
    "    \n",
    "    Parameters: data <pandas.DataFrame> : dataset we're studying.\n",
    "\n",
    "    Returns: None\n",
    "\n",
    "    Prints: \n",
    "        1 - number of columns and rows\n",
    "        2 - data type in each column\n",
    "        3 - number of missing data per column\n",
    "        4 - correlation between variables\n",
    "    \"\"\"\n",
    "    row, col = data.shape\n",
    "    print(\"The dataset has : \", row, \" rows and \", col ,\" columns.\")\n",
    "    \n",
    "    \n",
    "    print(\"\\n\\n--------------------------------\\n\\n\")\n",
    "    print(\"Data Information : \")\n",
    "    print(data.info())\n",
    "    \n",
    "    \n",
    "    print(\"\\n\\n--------------------------------\\n\\n\")\n",
    "    print(\"Number of null per column:\")\n",
    "    print(data.isna().sum())\n",
    "    \n",
    "    \n",
    "    print(\"\\n\\n--------------------------------\\n\\n\")\n",
    "    print(\"Correlation matrix:\")\n",
    "\n",
    "    # Compute the correlation matrix \n",
    "    data['Location_Name_Encoded'] = LabelEncoder().fit_transform(data['Location Name'])\n",
    "\n",
    "    corr_matrix = data.drop(columns=['Location Name']).corr(method='pearson')\n",
    "\n",
    "    # Plot the correlation matrix as a heatmap\n",
    "    plt.figure(figsize=(10, 8))\n",
    "    sns.heatmap(corr_matrix, annot=False, fmt='.2f', cmap='coolwarm', cbar=True, square=True)\n",
    "    plt.title(\"Correlation Matrix (Pearson Method)\")\n",
    "    plt.tight_layout()\n",
    "    plt.show()"
   ]
  },
  {
   "cell_type": "code",
   "execution_count": null,
   "metadata": {},
   "outputs": [],
   "source": [
    "# Call Exploratory Data Analysis function on our dataset\n",
    "EDA(data)"
   ]
  }
 ],
 "metadata": {
  "kernelspec": {
   "display_name": "base",
   "language": "python",
   "name": "python3"
  },
  "language_info": {
   "codemirror_mode": {
    "name": "ipython",
    "version": 3
   },
   "file_extension": ".py",
   "mimetype": "text/x-python",
   "name": "python",
   "nbconvert_exporter": "python",
   "pygments_lexer": "ipython3",
   "version": "3.11.8"
  }
 },
 "nbformat": 4,
 "nbformat_minor": 2
}
